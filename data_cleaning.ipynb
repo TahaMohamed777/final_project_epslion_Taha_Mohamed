{
 "cells": [
  {
   "cell_type": "markdown",
   "id": "eb13c44a",
   "metadata": {},
   "source": [
    "# \n",
    "<h2 style=\"text-align: center; color: #1f77b4;\">🧹 Data Cleaning</h2>\n",
    "\n",
    "<p style=\"text-align: center;\">\n",
    "    <img src=\"1674986094871.jpg\" alt=\"Data Cleaning\" style=\"width: 50%; height: auto;\">\n",
    "</p>\n"
   ]
  },
  {
   "cell_type": "markdown",
   "id": "535a617c",
   "metadata": {},
   "source": [
    "## <span style=\"color:red\">Bank Customer Churn Dataset Overview</span>\n",
    "\n",
    "### 1️. Dataset Summary\n",
    "- **Number of Rows:** 10,000\n",
    "- **Number of Columns:** 14\n",
    "- **Target Variable:** `Exited` (1 = Customer left bank, 0 = Customer stayed)\n",
    "- **Goal:** Predict customer churn based on demographic and financial features.\n",
    "\n",
    "---\n",
    "\n",
    "### 2️. Features Overview\n",
    "\n",
    "<table>\n",
    "<tr><th style=\"color:blue\">Column</th><th style=\"color:green\">Type</th><th style=\"color:purple\">Description</th></tr>\n",
    "<tr><td>RowNumber</td><td>Integer</td><td>Row index (not useful for prediction)</td></tr>\n",
    "<tr><td>CustomerId</td><td>Integer</td><td>Unique ID of the customer</td></tr>\n",
    "<tr><td>Surname</td><td>Object</td><td>Customer last name (not predictive)</td></tr>\n",
    "<tr><td>CreditScore</td><td>Integer</td><td>Customer credit score</td></tr>\n",
    "<tr><td>Geography</td><td>Category</td><td>Country of residence (France, Spain, Germany)</td></tr>\n",
    "<tr><td>Gender</td><td>Category</td><td>Male or Female</td></tr>\n",
    "<tr><td>Age</td><td>Integer</td><td>Customer age in years</td></tr>\n",
    "<tr><td>Tenure</td><td>Integer</td><td>Years the customer has been with the bank</td></tr>\n",
    "<tr><td>Balance</td><td>Float</td><td>Customer account balance</td></tr>\n",
    "<tr><td>NumOfProducts</td><td>Integer</td><td>Number of bank products used</td></tr>\n",
    "<tr><td>HasCrCard</td><td>Integer</td><td>1 = Has credit card, 0 = No</td></tr>\n",
    "<tr><td>IsActiveMember</td><td>Integer</td><td>1 = Active customer, 0 = Inactive</td></tr>\n",
    "<tr><td>EstimatedSalary</td><td>Float</td><td>Estimated annual salary</td></tr>\n",
    "<tr><td>Exited</td><td>Integer</td><td>Target: 1 = Customer left, 0 = Still customer</td></tr>\n",
    "</table>\n",
    "\n",
    "---\n",
    "\n",
    "### 3️. Key Observations\n",
    "- **Gender distribution:** Balanced between Male & Female.  \n",
    "- **Geography:** Customers mainly from France, Spain, and Germany.  \n",
    "- **Age factor:** Older customers more likely to churn.  \n",
    "- **Churn rate:** ~20% of customers exited the bank.  \n",
    "- **Activity:** Inactive customers more likely to churn.  \n",
    "- **Balance & Salary:** Wide range, with some extreme outliers.  \n",
    "\n",
    "---\n",
    "\n",
    "### 4️. Notes\n",
    "- Columns `RowNumber`, `CustomerId`, `Surname` are identifiers → should be dropped.  \n",
    "- `Geography` & `Gender` require **encoding** (One-Hot / Label Encoding).  \n",
    "- Dataset is suitable for **classification task** predicting `Exited`.  \n",
    "\n"
   ]
  },
  {
   "cell_type": "code",
   "execution_count": 32,
   "id": "9d275684",
   "metadata": {},
   "outputs": [],
   "source": [
    "import numpy as np\n",
    "import pandas as pd\n",
    "import seaborn as sns\n",
    "import plotly.express as px"
   ]
  },
  {
   "cell_type": "code",
   "execution_count": 33,
   "id": "6f24243e",
   "metadata": {},
   "outputs": [
    {
     "data": {
      "text/html": [
       "<div>\n",
       "<style scoped>\n",
       "    .dataframe tbody tr th:only-of-type {\n",
       "        vertical-align: middle;\n",
       "    }\n",
       "\n",
       "    .dataframe tbody tr th {\n",
       "        vertical-align: top;\n",
       "    }\n",
       "\n",
       "    .dataframe thead th {\n",
       "        text-align: right;\n",
       "    }\n",
       "</style>\n",
       "<table border=\"1\" class=\"dataframe\">\n",
       "  <thead>\n",
       "    <tr style=\"text-align: right;\">\n",
       "      <th></th>\n",
       "      <th>CreditScore</th>\n",
       "      <th>Geography</th>\n",
       "      <th>Gender</th>\n",
       "      <th>Age</th>\n",
       "      <th>Tenure</th>\n",
       "      <th>Balance</th>\n",
       "      <th>NumOfProducts</th>\n",
       "      <th>HasCrCard</th>\n",
       "      <th>IsActiveMember</th>\n",
       "      <th>EstimatedSalary</th>\n",
       "      <th>Exited</th>\n",
       "    </tr>\n",
       "  </thead>\n",
       "  <tbody>\n",
       "    <tr>\n",
       "      <th>0</th>\n",
       "      <td>619</td>\n",
       "      <td>France</td>\n",
       "      <td>Female</td>\n",
       "      <td>42</td>\n",
       "      <td>2</td>\n",
       "      <td>0.00</td>\n",
       "      <td>1</td>\n",
       "      <td>1</td>\n",
       "      <td>1</td>\n",
       "      <td>101348.88</td>\n",
       "      <td>1</td>\n",
       "    </tr>\n",
       "    <tr>\n",
       "      <th>1</th>\n",
       "      <td>608</td>\n",
       "      <td>Spain</td>\n",
       "      <td>Female</td>\n",
       "      <td>41</td>\n",
       "      <td>1</td>\n",
       "      <td>83807.86</td>\n",
       "      <td>1</td>\n",
       "      <td>0</td>\n",
       "      <td>1</td>\n",
       "      <td>112542.58</td>\n",
       "      <td>0</td>\n",
       "    </tr>\n",
       "    <tr>\n",
       "      <th>2</th>\n",
       "      <td>502</td>\n",
       "      <td>France</td>\n",
       "      <td>Female</td>\n",
       "      <td>42</td>\n",
       "      <td>8</td>\n",
       "      <td>159660.80</td>\n",
       "      <td>3</td>\n",
       "      <td>1</td>\n",
       "      <td>0</td>\n",
       "      <td>113931.57</td>\n",
       "      <td>1</td>\n",
       "    </tr>\n",
       "    <tr>\n",
       "      <th>3</th>\n",
       "      <td>699</td>\n",
       "      <td>France</td>\n",
       "      <td>Female</td>\n",
       "      <td>39</td>\n",
       "      <td>1</td>\n",
       "      <td>0.00</td>\n",
       "      <td>2</td>\n",
       "      <td>0</td>\n",
       "      <td>0</td>\n",
       "      <td>93826.63</td>\n",
       "      <td>0</td>\n",
       "    </tr>\n",
       "    <tr>\n",
       "      <th>4</th>\n",
       "      <td>850</td>\n",
       "      <td>Spain</td>\n",
       "      <td>Female</td>\n",
       "      <td>43</td>\n",
       "      <td>2</td>\n",
       "      <td>125510.82</td>\n",
       "      <td>1</td>\n",
       "      <td>1</td>\n",
       "      <td>1</td>\n",
       "      <td>79084.10</td>\n",
       "      <td>0</td>\n",
       "    </tr>\n",
       "  </tbody>\n",
       "</table>\n",
       "</div>"
      ],
      "text/plain": [
       "   CreditScore Geography  Gender  Age  Tenure    Balance  NumOfProducts  \\\n",
       "0          619    France  Female   42       2       0.00              1   \n",
       "1          608     Spain  Female   41       1   83807.86              1   \n",
       "2          502    France  Female   42       8  159660.80              3   \n",
       "3          699    France  Female   39       1       0.00              2   \n",
       "4          850     Spain  Female   43       2  125510.82              1   \n",
       "\n",
       "   HasCrCard  IsActiveMember  EstimatedSalary  Exited  \n",
       "0          1               1        101348.88       1  \n",
       "1          0               1        112542.58       0  \n",
       "2          1               0        113931.57       1  \n",
       "3          0               0         93826.63       0  \n",
       "4          1               1         79084.10       0  "
      ]
     },
     "execution_count": 33,
     "metadata": {},
     "output_type": "execute_result"
    }
   ],
   "source": [
    "df = pd.read_csv(\"pre_cleaned_data.csv\")\n",
    "df.head()"
   ]
  },
  {
   "cell_type": "markdown",
   "id": "e3d30447",
   "metadata": {},
   "source": [
    "## <span style=\"color:yellow\">Check nulls and missing values and duplicates</span>\n",
    "#### no missing values found or duplicates"
   ]
  },
  {
   "cell_type": "code",
   "execution_count": 34,
   "id": "79cbef02",
   "metadata": {},
   "outputs": [
    {
     "data": {
      "text/plain": [
       "CreditScore        0.0\n",
       "Geography          0.0\n",
       "Gender             0.0\n",
       "Age                0.0\n",
       "Tenure             0.0\n",
       "Balance            0.0\n",
       "NumOfProducts      0.0\n",
       "HasCrCard          0.0\n",
       "IsActiveMember     0.0\n",
       "EstimatedSalary    0.0\n",
       "Exited             0.0\n",
       "dtype: float64"
      ]
     },
     "execution_count": 34,
     "metadata": {},
     "output_type": "execute_result"
    }
   ],
   "source": [
    "df.isnull().mean().round(4)*100\n"
   ]
  },
  {
   "cell_type": "code",
   "execution_count": 35,
   "id": "9e293fd5",
   "metadata": {},
   "outputs": [
    {
     "data": {
      "text/plain": [
       "np.int64(0)"
      ]
     },
     "execution_count": 35,
     "metadata": {},
     "output_type": "execute_result"
    }
   ],
   "source": [
    "df.duplicated().sum()"
   ]
  },
  {
   "cell_type": "markdown",
   "id": "521befab",
   "metadata": {},
   "source": [
    "## <span style=\"color:yellow\">Handling Outliers</span>\n"
   ]
  },
  {
   "cell_type": "code",
   "execution_count": 36,
   "id": "729af0b4",
   "metadata": {},
   "outputs": [
    {
     "data": {
      "image/png": "[encoded data removed]",
      "text/plain": [
       "<Figure size 600x400 with 1 Axes>"
      ]
     },
     "metadata": {},
     "output_type": "display_data"
    },
    {
     "data": {
      "image/png": "[encoded data removed]",
      "text/plain": [
       "<Figure size 600x400 with 1 Axes>"
      ]
     },
     "metadata": {},
     "output_type": "display_data"
    },
    {
     "data": {
      "image/png": "[encoded data removed]",
      "text/plain": [
       "<Figure size 600x400 with 1 Axes>"
      ]
     },
     "metadata": {},
     "output_type": "display_data"
    },
    {
     "data": {
      "image/png": "[encoded data removed]",
      "text/plain": [
       "<Figure size 600x400 with 1 Axes>"
      ]
     },
     "metadata": {},
     "output_type": "display_data"
    },
    {
     "data": {
      "image/png": "[encoded data removed]",
      "text/plain": [
       "<Figure size 600x400 with 1 Axes>"
      ]
     },
     "metadata": {},
     "output_type": "display_data"
    },
    {
     "data": {
      "image/png": "[encoded data removed]",
      "text/plain": [
       "<Figure size 600x400 with 1 Axes>"
      ]
     },
     "metadata": {},
     "output_type": "display_data"
    },
    {
     "data": {
      "image/png": "[encoded data removed]",
      "text/plain": [
       "<Figure size 600x400 with 1 Axes>"
      ]
     },
     "metadata": {},
     "output_type": "display_data"
    },
    {
     "data": {
      "image/png": "[encoded data removed]",
      "text/plain": [
       "<Figure size 600x400 with 1 Axes>"
      ]
     },
     "metadata": {},
     "output_type": "display_data"
    },
    {
     "data": {
      "image/png": "[encoded data removed]",
      "text/plain": [
       "<Figure size 600x400 with 1 Axes>"
      ]
     },
     "metadata": {},
     "output_type": "display_data"
    }
   ],
   "source": [
    "import matplotlib.pyplot as plt\n",
    "import seaborn as sns\n",
    "\n",
    "\n",
    "numeric_cols = df.select_dtypes(include=['int64', 'float64']).columns\n",
    "\n",
    "\n",
    "for col in numeric_cols:\n",
    "    plt.figure(figsize=(6, 4))\n",
    "    sns.boxplot(x=df[col])\n",
    "    plt.title(f\"Boxplot of {col}\")\n",
    "    plt.show()\n"
   ]
  },
  {
   "cell_type": "code",
   "execution_count": 37,
   "id": "cb48cb4d",
   "metadata": {},
   "outputs": [
    {
     "name": "stdout",
     "output_type": "stream",
     "text": [
      "CreditScore: 15 outliers\n",
      "Age: 359 outliers\n",
      "Tenure: 0 outliers\n",
      "Balance: 0 outliers\n",
      "NumOfProducts: 60 outliers\n",
      "HasCrCard: 0 outliers\n",
      "IsActiveMember: 0 outliers\n",
      "EstimatedSalary: 0 outliers\n",
      "Exited: 2037 outliers\n"
     ]
    }
   ],
   "source": [
    "for col in numeric_cols:\n",
    "    Q1 = df[col].quantile(0.25)\n",
    "    Q3 = df[col].quantile(0.75)\n",
    "    IQR = Q3 - Q1\n",
    "    lower_bound = Q1 - 1.5 * IQR\n",
    "    upper_bound = Q3 + 1.5 * IQR\n",
    "\n",
    "    outliers = df[(df[col] < lower_bound) | (df[col] > upper_bound)]\n",
    "    print(f\"{col}: {len(outliers)} outliers\")\n",
    "    "
   ]
  },
  {
   "cell_type": "code",
   "execution_count": 38,
   "id": "955ef93b",
   "metadata": {},
   "outputs": [
    {
     "name": "stdout",
     "output_type": "stream",
     "text": [
      "Before Capping:\n",
      "CreditScore -> Min: 350, Max: 850\n",
      "Age -> Min: 18, Max: 92\n",
      "\n",
      "After Capping:\n",
      "CreditScore -> Min: 383.0, Max: 850.0\n",
      "Age -> Min: 18.0, Max: 62.0\n"
     ]
    }
   ],
   "source": [
    "import numpy as np\n",
    "import pandas as pd\n",
    "\n",
    "outlier_cols = ['CreditScore', 'Age']\n",
    "\n",
    "print(\"Before Capping:\")\n",
    "for col in outlier_cols:\n",
    "    print(f\"{col} -> Min: {df[col].min()}, Max: {df[col].max()}\")\n",
    "\n",
    "for col in outlier_cols:\n",
    "    Q1 = df[col].quantile(0.25)\n",
    "    Q3 = df[col].quantile(0.75)\n",
    "    IQR = Q3 - Q1\n",
    "    lower_bound = Q1 - 1.5 * IQR\n",
    "    upper_bound = Q3 + 1.5 * IQR\n",
    "\n",
    "    df[col] = np.where(df[col] < lower_bound, lower_bound,\n",
    "                       np.where(df[col] > upper_bound, upper_bound, df[col]))\n",
    "\n",
    "print(\"\\nAfter Capping:\")\n",
    "for col in outlier_cols:\n",
    "    print(f\"{col} -> Min: {df[col].min()}, Max: {df[col].max()}\")\n"
   ]
  },
  {
   "cell_type": "code",
   "execution_count": 39,
   "id": "9930cf0e",
   "metadata": {},
   "outputs": [
    {
     "name": "stdout",
     "output_type": "stream",
     "text": [
      "CreditScore: 0 outliers\n",
      "Age: 0 outliers\n",
      "Tenure: 0 outliers\n",
      "Balance: 0 outliers\n",
      "NumOfProducts: 60 outliers\n",
      "HasCrCard: 0 outliers\n",
      "IsActiveMember: 0 outliers\n",
      "EstimatedSalary: 0 outliers\n",
      "Exited: 2037 outliers\n"
     ]
    }
   ],
   "source": [
    "for col in numeric_cols:\n",
    "    Q1 = df[col].quantile(0.25)\n",
    "    Q3 = df[col].quantile(0.75)\n",
    "    IQR = Q3 - Q1\n",
    "    lower_bound = Q1 - 1.5 * IQR\n",
    "    upper_bound = Q3 + 1.5 * IQR\n",
    "\n",
    "    outliers = df[(df[col] < lower_bound) | (df[col] > upper_bound)]\n",
    "    print(f\"{col}: {len(outliers)} outliers\")\n",
    "    "
   ]
  },
  {
   "cell_type": "markdown",
   "id": "3c20a595",
   "metadata": {},
   "source": [
    "# <span style=\"color:red\">Feature Engineering</span>\n",
    "#### Balance_per_Product → Average balance per product.\n",
    "\n",
    "#### Tenure_per_Age → Tenure divided by age.\n",
    "\n",
    "#### HighSalary → 1 if salary > 150k, else 0.\n",
    "\n",
    "#### AgeGroup → Young (<30), Adult (30–59), Senior (60+)."
   ]
  },
  {
   "cell_type": "code",
   "execution_count": 52,
   "id": "a3c3c309",
   "metadata": {},
   "outputs": [
    {
     "data": {
      "text/html": [
       "<div>\n",
       "<style scoped>\n",
       "    .dataframe tbody tr th:only-of-type {\n",
       "        vertical-align: middle;\n",
       "    }\n",
       "\n",
       "    .dataframe tbody tr th {\n",
       "        vertical-align: top;\n",
       "    }\n",
       "\n",
       "    .dataframe thead th {\n",
       "        text-align: right;\n",
       "    }\n",
       "</style>\n",
       "<table border=\"1\" class=\"dataframe\">\n",
       "  <thead>\n",
       "    <tr style=\"text-align: right;\">\n",
       "      <th></th>\n",
       "      <th>CreditScore</th>\n",
       "      <th>Geography</th>\n",
       "      <th>Gender</th>\n",
       "      <th>Age</th>\n",
       "      <th>Tenure</th>\n",
       "      <th>Balance</th>\n",
       "      <th>NumOfProducts</th>\n",
       "      <th>HasCrCard</th>\n",
       "      <th>IsActiveMember</th>\n",
       "      <th>EstimatedSalary</th>\n",
       "      <th>Exited</th>\n",
       "      <th>Balance_per_Product</th>\n",
       "      <th>Tenure_per_Age</th>\n",
       "      <th>HighSalary</th>\n",
       "      <th>AgeGroup</th>\n",
       "    </tr>\n",
       "  </thead>\n",
       "  <tbody>\n",
       "    <tr>\n",
       "      <th>0</th>\n",
       "      <td>619.0</td>\n",
       "      <td>France</td>\n",
       "      <td>Female</td>\n",
       "      <td>42.0</td>\n",
       "      <td>2</td>\n",
       "      <td>0.00</td>\n",
       "      <td>1</td>\n",
       "      <td>1</td>\n",
       "      <td>1</td>\n",
       "      <td>101348.88</td>\n",
       "      <td>1</td>\n",
       "      <td>0.000000</td>\n",
       "      <td>0.047619</td>\n",
       "      <td>0</td>\n",
       "      <td>Adult</td>\n",
       "    </tr>\n",
       "    <tr>\n",
       "      <th>1</th>\n",
       "      <td>608.0</td>\n",
       "      <td>Spain</td>\n",
       "      <td>Female</td>\n",
       "      <td>41.0</td>\n",
       "      <td>1</td>\n",
       "      <td>83807.86</td>\n",
       "      <td>1</td>\n",
       "      <td>0</td>\n",
       "      <td>1</td>\n",
       "      <td>112542.58</td>\n",
       "      <td>0</td>\n",
       "      <td>83807.860000</td>\n",
       "      <td>0.024390</td>\n",
       "      <td>0</td>\n",
       "      <td>Adult</td>\n",
       "    </tr>\n",
       "    <tr>\n",
       "      <th>2</th>\n",
       "      <td>502.0</td>\n",
       "      <td>France</td>\n",
       "      <td>Female</td>\n",
       "      <td>42.0</td>\n",
       "      <td>8</td>\n",
       "      <td>159660.80</td>\n",
       "      <td>3</td>\n",
       "      <td>1</td>\n",
       "      <td>0</td>\n",
       "      <td>113931.57</td>\n",
       "      <td>1</td>\n",
       "      <td>53220.266667</td>\n",
       "      <td>0.190476</td>\n",
       "      <td>0</td>\n",
       "      <td>Adult</td>\n",
       "    </tr>\n",
       "    <tr>\n",
       "      <th>3</th>\n",
       "      <td>699.0</td>\n",
       "      <td>France</td>\n",
       "      <td>Female</td>\n",
       "      <td>39.0</td>\n",
       "      <td>1</td>\n",
       "      <td>0.00</td>\n",
       "      <td>2</td>\n",
       "      <td>0</td>\n",
       "      <td>0</td>\n",
       "      <td>93826.63</td>\n",
       "      <td>0</td>\n",
       "      <td>0.000000</td>\n",
       "      <td>0.025641</td>\n",
       "      <td>0</td>\n",
       "      <td>Adult</td>\n",
       "    </tr>\n",
       "    <tr>\n",
       "      <th>4</th>\n",
       "      <td>850.0</td>\n",
       "      <td>Spain</td>\n",
       "      <td>Female</td>\n",
       "      <td>43.0</td>\n",
       "      <td>2</td>\n",
       "      <td>125510.82</td>\n",
       "      <td>1</td>\n",
       "      <td>1</td>\n",
       "      <td>1</td>\n",
       "      <td>79084.10</td>\n",
       "      <td>0</td>\n",
       "      <td>125510.820000</td>\n",
       "      <td>0.046512</td>\n",
       "      <td>0</td>\n",
       "      <td>Adult</td>\n",
       "    </tr>\n",
       "  </tbody>\n",
       "</table>\n",
       "</div>"
      ],
      "text/plain": [
       "   CreditScore Geography  Gender   Age  Tenure    Balance  NumOfProducts  \\\n",
       "0        619.0    France  Female  42.0       2       0.00              1   \n",
       "1        608.0     Spain  Female  41.0       1   83807.86              1   \n",
       "2        502.0    France  Female  42.0       8  159660.80              3   \n",
       "3        699.0    France  Female  39.0       1       0.00              2   \n",
       "4        850.0     Spain  Female  43.0       2  125510.82              1   \n",
       "\n",
       "   HasCrCard  IsActiveMember  EstimatedSalary  Exited  Balance_per_Product  \\\n",
       "0          1               1        101348.88       1             0.000000   \n",
       "1          0               1        112542.58       0         83807.860000   \n",
       "2          1               0        113931.57       1         53220.266667   \n",
       "3          0               0         93826.63       0             0.000000   \n",
       "4          1               1         79084.10       0        125510.820000   \n",
       "\n",
       "   Tenure_per_Age  HighSalary AgeGroup  \n",
       "0        0.047619           0    Adult  \n",
       "1        0.024390           0    Adult  \n",
       "2        0.190476           0    Adult  \n",
       "3        0.025641           0    Adult  \n",
       "4        0.046512           0    Adult  "
      ]
     },
     "execution_count": 52,
     "metadata": {},
     "output_type": "execute_result"
    }
   ],
   "source": [
    "# Balance per Product\n",
    "df['Balance_per_Product'] = df['Balance'] / df['NumOfProducts']\n",
    "\n",
    "# Tenure per Age\n",
    "df['Tenure_per_Age'] = df['Tenure'] / df['Age']\n",
    "\n",
    "# HighSalary Flag\n",
    "salary_threshold = 150000\n",
    "df['HighSalary'] = (df['EstimatedSalary'] > salary_threshold).astype(int)\n",
    "\n",
    "# Age Group\n",
    "def age_group(age):\n",
    "    if age < 30:\n",
    "        return 'Young'\n",
    "    elif age < 60:\n",
    "        return 'Adult'\n",
    "    else:\n",
    "        return 'Senior'\n",
    "\n",
    "df['AgeGroup'] = df['Age'].apply(age_group)\n",
    "\n",
    "# عرض أول 5 صفوف للتأكدdf.head())\n",
    "df.head()\n"
   ]
  },
  {
   "cell_type": "code",
   "execution_count": null,
   "id": "dc151d8a",
   "metadata": {},
   "outputs": [
    {
     "name": "stdout",
     "output_type": "stream",
     "text": [
      "<class 'pandas.core.frame.DataFrame'>\n",
      "RangeIndex: 10000 entries, 0 to 9999\n",
      "Data columns (total 15 columns):\n",
      " #   Column               Non-Null Count  Dtype  \n",
      "---  ------               --------------  -----  \n",
      " 0   CreditScore          10000 non-null  float64\n",
      " 1   Geography            10000 non-null  object \n",
      " 2   Gender               10000 non-null  object \n",
      " 3   Age                  10000 non-null  float64\n",
      " 4   Tenure               10000 non-null  int64  \n",
      " 5   Balance              10000 non-null  float64\n",
      " 6   NumOfProducts        10000 non-null  int64  \n",
      " 7   HasCrCard            10000 non-null  int64  \n",
      " 8   IsActiveMember       10000 non-null  int64  \n",
      " 9   EstimatedSalary      10000 non-null  float64\n",
      " 10  Exited               10000 non-null  int64  \n",
      " 11  Balance_per_Product  10000 non-null  float64\n",
      " 12  Tenure_per_Age       10000 non-null  float64\n",
      " 13  HighSalary           10000 non-null  int64  \n",
      " 14  AgeGroup             10000 non-null  object \n",
      "dtypes: float64(6), int64(6), object(3)\n",
      "memory usage: 1.1+ MB\n"
     ]
    }
   ],
   "source": [
    "df.info()\n"
   ]
  },
  {
   "cell_type": "code",
   "execution_count": 51,
   "id": "14f8cab0",
   "metadata": {},
   "outputs": [
    {
     "name": "stdout",
     "output_type": "stream",
     "text": [
      "<class 'pandas.core.frame.DataFrame'>\n",
      "RangeIndex: 10000 entries, 0 to 9999\n",
      "Data columns (total 15 columns):\n",
      " #   Column               Non-Null Count  Dtype   \n",
      "---  ------               --------------  -----   \n",
      " 0   CreditScore          10000 non-null  float64 \n",
      " 1   Geography            10000 non-null  category\n",
      " 2   Gender               10000 non-null  category\n",
      " 3   Age                  10000 non-null  float64 \n",
      " 4   Tenure               10000 non-null  int64   \n",
      " 5   Balance              10000 non-null  float64 \n",
      " 6   NumOfProducts        10000 non-null  int64   \n",
      " 7   HasCrCard            10000 non-null  int64   \n",
      " 8   IsActiveMember       10000 non-null  int64   \n",
      " 9   EstimatedSalary      10000 non-null  float64 \n",
      " 10  Exited               10000 non-null  int64   \n",
      " 11  Balance_per_Product  10000 non-null  float64 \n",
      " 12  Tenure_per_Age       10000 non-null  float64 \n",
      " 13  HighSalary           10000 non-null  int64   \n",
      " 14  AgeGroup             10000 non-null  category\n",
      "dtypes: category(3), float64(6), int64(6)\n",
      "memory usage: 967.3 KB\n"
     ]
    }
   ],
   "source": [
    "categorical_cols = ['Geography', 'Gender', 'AgeGroup']\n",
    "for col in categorical_cols:\n",
    "    df[col] = df[col].astype('category')\n",
    "\n",
    "df.info()\n"
   ]
  },
  {
   "cell_type": "code",
   "execution_count": 50,
   "id": "264b5645",
   "metadata": {},
   "outputs": [],
   "source": [
    "df.to_csv(\"cleaned_data.csv\", index=False)"
   ]
  },
  {
   "cell_type": "code",
   "execution_count": null,
   "id": "dbef68ab",
   "metadata": {},
   "outputs": [],
   "source": []
  },
  {
   "cell_type": "code",
   "execution_count": null,
   "id": "6f0afd41",
   "metadata": {},
   "outputs": [],
   "source": []
  }
 ],
 "metadata": {
  "kernelspec": {
   "display_name": "DA",
   "language": "python",
   "name": "python3"
  },
  "language_info": {
   "codemirror_mode": {
    "name": "ipython",
    "version": 3
   },
   "file_extension": ".py",
   "mimetype": "text/x-python",
   "name": "python",
   "nbconvert_exporter": "python",
   "pygments_lexer": "ipython3",
   "version": "3.12.9"
  }
 },
 "nbformat": 4,
 "nbformat_minor": 5
}
